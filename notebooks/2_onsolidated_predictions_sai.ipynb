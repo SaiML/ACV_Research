{
 "cells": [
  {
   "cell_type": "code",
   "execution_count": 2,
   "id": "131ce5b8",
   "metadata": {},
   "outputs": [],
   "source": [
    "# laoding functions from utils.py\n",
    "import pandas as pd\n",
    "from pathlib import Path\n",
    "from utils import create_Features,preprocess,get_predictions\n",
    "import pickle\n",
    "import gc\n",
    "import warnings\n",
    "warnings.filterwarnings('ignore')"
   ]
  },
  {
   "cell_type": "code",
   "execution_count": 4,
   "id": "f71c3038",
   "metadata": {},
   "outputs": [
    {
     "name": "stdout",
     "output_type": "stream",
     "text": [
      "............\n",
      "Creating Features :done\n"
     ]
    }
   ],
   "source": [
    "basepath=Path('C:\\\\colab\\\\acv\\\\Data')\n",
    "df = pd.read_csv(basepath/\"final_500_none_none_none_true.csv\")\n",
    "df=create_Features(df)\n",
    "print(\"Creating Features :done\")"
   ]
  },
  {
   "cell_type": "code",
   "execution_count": 5,
   "id": "29d92db9",
   "metadata": {},
   "outputs": [],
   "source": [
    "# varibles defining\n",
    "cat_controls= ['vehicle_vin', #supply\n",
    "               'auction_is_green_light',   #condition\n",
    "               'auction_is_yellow_light',  #condition\n",
    "               'auction_is_blue_light',    #condition\n",
    "               'auction_red_light_changed_to_green_in_past',\n",
    "              'auction_hour_of_week',\"lister_dealer_territory\",'auction_gross_run_number_calc','auction_lister_id','auction_is_gross_sold',\"week_num_cat\"]\n",
    "\n",
    "num_controls = [\"week_num\",'auction_odometer','auction_sale_amount','auction_floor_price',\"auction_bid_count\"] \n",
    "\n",
    "\n",
    "# Preprocess\n",
    "df_final= preprocess(df,cat_controls,num_controls)"
   ]
  },
  {
   "cell_type": "code",
   "execution_count": 2,
   "id": "801d8612",
   "metadata": {},
   "outputs": [
    {
     "ename": "NameError",
     "evalue": "name 'df' is not defined",
     "output_type": "error",
     "traceback": [
      "\u001b[1;31m---------------------------------------------------------------------------\u001b[0m",
      "\u001b[1;31mNameError\u001b[0m                                 Traceback (most recent call last)",
      "Cell \u001b[1;32mIn[2], line 1\u001b[0m\n\u001b[1;32m----> 1\u001b[0m df[(df[\u001b[39m'\u001b[39m\u001b[39mweek_num\u001b[39m\u001b[39m'\u001b[39m] \u001b[39m>\u001b[39m \u001b[39m55\u001b[39m) \u001b[39m&\u001b[39m (df[\u001b[39m'\u001b[39m\u001b[39mweek_num\u001b[39m\u001b[39m'\u001b[39m] \u001b[39m<\u001b[39m\u001b[39m=\u001b[39m (\u001b[39m55\u001b[39m \u001b[39m+\u001b[39m \u001b[39m1\u001b[39m))]\n",
      "\u001b[1;31mNameError\u001b[0m: name 'df' is not defined"
     ]
    }
   ],
   "source": [
    "df[(df['week_num'] > 55) & (df['week_num'] <= (55 + 1))]"
   ]
  },
  {
   "cell_type": "markdown",
   "id": "c5f77863",
   "metadata": {},
   "source": [
    "# Getting Predictions from old trained models"
   ]
  },
  {
   "cell_type": "code",
   "execution_count": 9,
   "id": "7a4a5a63",
   "metadata": {},
   "outputs": [],
   "source": [
    "preds_floor_price =  get_predictions(df_final,df,\"auction_floor_price\",\"CatBoost.sav\",training_weeks=55)\n",
    "preds_sale_price = get_predictions(df_final,df,\"auction_sale_amount\",\"spCatBoost.sav\",training_weeks=55)\n",
    "preds_Bids_count = get_predictions(df_final,df,\"auction_bid_count\",\"Bids_CatBoost.sav\",training_weeks=55)\n",
    "\n",
    "# Extracting the last two columns [preds and original values] from preds_sale_price and preds_Bids_count\n",
    "last_two_sp = preds_sale_price.iloc[:, -2:]\n",
    "last_two_bd = preds_Bids_count.iloc[:, -2:]\n",
    "\n",
    "# Concatenating the last two columns from df2 and df3 with df1\n",
    "df_final_preds = pd.concat([preds_floor_price, last_two_sp, last_two_bd], axis=1)\n",
    "\n",
    "# all predictions from old trianed models\n",
    "df_final_preds.to_csv(basepath/\"All_predictions.csv\")"
   ]
  },
  {
   "cell_type": "markdown",
   "id": "20c64a3c",
   "metadata": {},
   "source": [
    "# Getting Predictions from old trained models from new models"
   ]
  },
  {
   "cell_type": "code",
   "execution_count": 6,
   "id": "c29197c6",
   "metadata": {},
   "outputs": [],
   "source": [
    "preds_floor_price =  get_predictions(df_final,df,\"auction_floor_price\",basepath/\"FP_CatBoost.sav\",training_weeks=55)\n",
    "preds_sale_price = get_predictions(df_final,df,\"auction_sale_amount\",basepath/\"SP_CatBoost.sav\",training_weeks=55)\n",
    "preds_Bids_count = get_predictions(df_final,df,\"auction_bid_count\",basepath/\"BC_CatBoost.sav\",training_weeks=55)\n",
    "\n",
    "# Extracting the last two columns [preds and original values] from preds_sale_price and preds_Bids_count\n",
    "last_two_sp = preds_sale_price.iloc[:, -2:]\n",
    "last_two_bd = preds_Bids_count.iloc[:, -2:]\n",
    "\n",
    "# Concatenating the last two columns from df2 and df3 with df1\n",
    "df_final_preds = pd.concat([preds_floor_price, last_two_sp, last_two_bd], axis=1)\n",
    "\n",
    "# all predictions from old trianed models\n",
    "df_final_preds.to_csv(basepath/\"All_predictions_new.csv\")"
   ]
  },
  {
   "cell_type": "code",
   "execution_count": null,
   "id": "1561448f",
   "metadata": {},
   "outputs": [],
   "source": []
  }
 ],
 "metadata": {
  "kernelspec": {
   "display_name": "Python 3.11(acv)",
   "language": "python",
   "name": "acv"
  },
  "language_info": {
   "codemirror_mode": {
    "name": "ipython",
    "version": 3
   },
   "file_extension": ".py",
   "mimetype": "text/x-python",
   "name": "python",
   "nbconvert_exporter": "python",
   "pygments_lexer": "ipython3",
   "version": "3.11.4"
  }
 },
 "nbformat": 4,
 "nbformat_minor": 5
}
